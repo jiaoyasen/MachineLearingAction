{
 "cells": [
  {
   "cell_type": "code",
   "execution_count": 9,
   "metadata": {},
   "outputs": [
    {
     "data": {
      "text/plain": [
       "0.6935361388961918"
      ]
     },
     "execution_count": 9,
     "metadata": {},
     "output_type": "execute_result"
    }
   ],
   "source": [
    "import numpy as np\n",
    "-(2.0/7)*np.log2(2.0/5)-(3.0/7)*np.log2(3.0/5)"
   ]
  },
  {
   "cell_type": "code",
   "execution_count": 10,
   "metadata": {},
   "outputs": [
    {
     "data": {
      "text/plain": [
       "0.7884504573082896"
      ]
     },
     "execution_count": 10,
     "metadata": {},
     "output_type": "execute_result"
    }
   ],
   "source": [
    "-(3.0/14)*np.log2(3.0/7)-(2.0/7)*np.log2(4.0/7)-(3.0/7)*np.log2(6.0/7)-(1.0/14)*np.log2(1.0/7)"
   ]
  },
  {
   "cell_type": "code",
   "execution_count": 11,
   "metadata": {},
   "outputs": [
    {
     "data": {
      "text/plain": [
       "0.8921589282623617"
      ]
     },
     "execution_count": 11,
     "metadata": {},
     "output_type": "execute_result"
    }
   ],
   "source": [
    "-(3.0/7)*np.log2(3.0/4)-(1.0/7)*np.log2(1.0/4)-(3.0/14)*np.log2(1.0/2)-(3.0/14)*np.log2(1.0/2)"
   ]
  },
  {
   "cell_type": "code",
   "execution_count": 12,
   "metadata": {},
   "outputs": [
    {
     "data": {
      "text/plain": [
       "0.9110633930116763"
      ]
     },
     "execution_count": 12,
     "metadata": {},
     "output_type": "execute_result"
    }
   ],
   "source": [
    "-(2.0/7)*np.log2(1.0/2)-(2.0/7)*np.log2(2.0/3)-(1.0/7)*np.log2(1.0/3)-(3.0/14)*np.log2(3.0/4)-(1.0/14)*np.log2(1.0/4)"
   ]
  },
  {
   "cell_type": "code",
   "execution_count": 14,
   "metadata": {},
   "outputs": [
    {
     "data": {
      "text/plain": [
       "0.9402859586706311"
      ]
     },
     "execution_count": 14,
     "metadata": {},
     "output_type": "execute_result"
    }
   ],
   "source": [
    "-(9.0/14)*np.log2(9.0/14)-(5.0/14)*np.log2(5.0/14)"
   ]
  },
  {
   "cell_type": "code",
   "execution_count": 15,
   "metadata": {},
   "outputs": [
    {
     "data": {
      "text/plain": [
       "0.24674981977443933"
      ]
     },
     "execution_count": 15,
     "metadata": {},
     "output_type": "execute_result"
    }
   ],
   "source": [
    "-(9.0/14)*np.log2(9.0/14)-(5.0/14)*np.log2(5.0/14)-(-(2.0/7)*np.log2(2.0/5)-(3.0/7)*np.log2(3.0/5))"
   ]
  },
  {
   "cell_type": "code",
   "execution_count": 16,
   "metadata": {},
   "outputs": [
    {
     "data": {
      "text/plain": [
       "0.15183550136234159"
      ]
     },
     "execution_count": 16,
     "metadata": {},
     "output_type": "execute_result"
    }
   ],
   "source": [
    "-(9.0/14)*np.log2(9.0/14)-(5.0/14)*np.log2(5.0/14)-(-(3.0/14)*np.log2(3.0/7)-(2.0/7)*np.log2(4.0/7)-(3.0/7)*np.log2(6.0/7)-(1.0/14)*np.log2(1.0/7))"
   ]
  },
  {
   "cell_type": "code",
   "execution_count": 17,
   "metadata": {},
   "outputs": [
    {
     "data": {
      "text/plain": [
       "0.04812703040826949"
      ]
     },
     "execution_count": 17,
     "metadata": {},
     "output_type": "execute_result"
    }
   ],
   "source": [
    "-(9.0/14)*np.log2(9.0/14)-(5.0/14)*np.log2(5.0/14)-(-(3.0/7)*np.log2(3.0/4)-(1.0/7)*np.log2(1.0/4)-(3.0/14)*np.log2(1.0/2)-(3.0/14)*np.log2(1.0/2))"
   ]
  },
  {
   "cell_type": "code",
   "execution_count": 18,
   "metadata": {},
   "outputs": [
    {
     "data": {
      "text/plain": [
       "0.02922256565895487"
      ]
     },
     "execution_count": 18,
     "metadata": {},
     "output_type": "execute_result"
    }
   ],
   "source": [
    "-(9.0/14)*np.log2(9.0/14)-(5.0/14)*np.log2(5.0/14)-(-(2.0/7)*np.log2(1.0/2)-(2.0/7)*np.log2(2.0/3)-(1.0/7)*np.log2(1.0/3)-(3.0/14)*np.log2(3.0/4)-(1.0/14)*np.log2(1.0/4))"
   ]
  },
  {
   "cell_type": "code",
   "execution_count": null,
   "metadata": {},
   "outputs": [],
   "source": []
  }
 ],
 "metadata": {
  "kernelspec": {
   "display_name": "Python 3",
   "language": "python",
   "name": "python3"
  },
  "language_info": {
   "codemirror_mode": {
    "name": "ipython",
    "version": 3
   },
   "file_extension": ".py",
   "mimetype": "text/x-python",
   "name": "python",
   "nbconvert_exporter": "python",
   "pygments_lexer": "ipython3",
   "version": "3.7.0"
  }
 },
 "nbformat": 4,
 "nbformat_minor": 2
}
